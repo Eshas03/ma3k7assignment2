{
 "cells": [
  {
   "cell_type": "code",
   "execution_count": null,
   "id": "4f3af38e-1956-4891-9833-bdd90b31846d",
   "metadata": {
    "tags": []
   },
   "outputs": [
    {
     "name": "stdin",
     "output_type": "stream",
     "text": [
      "Enter the size (n) of the matrix:  4\n"
     ]
    }
   ],
   "source": [
    "import numpy as np\n",
    "from itertools import permutations\n",
    "\n",
    "def generate_matrices(n):\n",
    "    if n % 2 == 0:\n",
    "        num_zeros = n * n // 2\n",
    "        num_ones = n * n // 2\n",
    "    else:\n",
    "        num_zeros = n * n // 2\n",
    "        num_ones = n * n // 2 + 1\n",
    "\n",
    "    elements = [0] * num_zeros + [1] * num_ones\n",
    "    matrices = set()\n",
    "\n",
    "    for perm in permutations(elements):\n",
    "        matrix = np.array(perm).reshape(n, n)\n",
    "        matrices.add(matrix.tobytes())\n",
    "\n",
    "    return [np.frombuffer(matrix_bytes, dtype=int).reshape(n, n) for matrix_bytes in matrices]\n",
    "\n",
    "def calculate_winning_probability(matrices):\n",
    "    total_matrices = len(matrices)\n",
    "    zero_determinant_matrices = 0\n",
    "\n",
    "    for matrix in matrices:\n",
    "        determinant = np.linalg.det(matrix)\n",
    "        if determinant == 0:\n",
    "            zero_determinant_matrices += 1\n",
    "\n",
    "    return zero_determinant_matrices / total_matrices\n",
    "\n",
    "n = int(input(\"Enter the size (n) of the matrix: \"))\n",
    "matrices = generate_matrices(n)\n",
    "winning_probability = calculate_winning_probability(matrices)\n",
    "\n",
    "print(f\"Total number of matrices: {len(matrices)}\")\n",
    "print(f\"Number of matrices with determinant zero: {winning_probability * len(matrices)}\")\n",
    "print(f\"Winning probability: {winning_probability:.4f}\")\n"
   ]
  }
 ],
 "metadata": {
  "kernelspec": {
   "display_name": "Python 3 (ipykernel)",
   "language": "python",
   "name": "python3"
  },
  "language_info": {
   "codemirror_mode": {
    "name": "ipython",
    "version": 3
   },
   "file_extension": ".py",
   "mimetype": "text/x-python",
   "name": "python",
   "nbconvert_exporter": "python",
   "pygments_lexer": "ipython3",
   "version": "3.11.5"
  }
 },
 "nbformat": 4,
 "nbformat_minor": 5
}
