{
 "cells": [
  {
   "cell_type": "code",
   "execution_count": 1,
   "id": "79fbb522-7dc0-43b8-a50c-2d0cd81ad546",
   "metadata": {
    "tags": []
   },
   "outputs": [
    {
     "name": "stdin",
     "output_type": "stream",
     "text": [
      "Enter the size (n) of the matrix:  2\n",
      "Player 0 or Player 1? Enter '0' or '1':  0\n",
      "Who starts first, Player 0 or Player 1? Enter '0' or '1':  1\n"
     ]
    },
    {
     "name": "stdout",
     "output_type": "stream",
     "text": [
      "* *\n",
      "* *\n",
      "Computer (Player 1) chose row 1, column 0.\n",
      "* *\n",
      "1 *\n"
     ]
    },
    {
     "name": "stdin",
     "output_type": "stream",
     "text": [
      "Player 0, enter row and column (row col, e.g., 0 0):  1 1\n"
     ]
    },
    {
     "name": "stdout",
     "output_type": "stream",
     "text": [
      "* *\n",
      "1 0\n",
      "Computer (Player 1) chose row 0, column 1.\n",
      "* 1\n",
      "1 0\n"
     ]
    },
    {
     "name": "stdin",
     "output_type": "stream",
     "text": [
      "Player 0, enter row and column (row col, e.g., 0 0):  0 1\n"
     ]
    },
    {
     "name": "stdout",
     "output_type": "stream",
     "text": [
      "Invalid move. Try again.\n"
     ]
    },
    {
     "name": "stdin",
     "output_type": "stream",
     "text": [
      "Player 0, enter row and column (row col, e.g., 0 0):  0 0\n"
     ]
    },
    {
     "name": "stdout",
     "output_type": "stream",
     "text": [
      "0 1\n",
      "1 0\n",
      "Player 1 wins! Determinant is not 0.\n"
     ]
    }
   ],
   "source": [
    "import numpy as np\n",
    "import random\n",
    "\n",
    "def create_matrix(n):\n",
    "    return np.full((n, n), '*', dtype=str)\n",
    "\n",
    "def print_matrix(matrix):\n",
    "    for row in matrix:\n",
    "        print(\" \".join(row))\n",
    "\n",
    "def is_valid_move(matrix, row, col):\n",
    "    return matrix[row][col] == '*'\n",
    "\n",
    "def player_move(matrix, player):\n",
    "    while True:\n",
    "        try:\n",
    "            move = input(f\"Player {player}, enter row and column (row col, e.g., 0 0): \")\n",
    "            row, col = map(int, move.split())\n",
    "            if 0 <= row < n and 0 <= col < n and is_valid_move(matrix, row, col):\n",
    "                return row, col\n",
    "            else:\n",
    "                print(\"Invalid move. Try again.\")\n",
    "        except (ValueError, IndexError):\n",
    "            print(\"Invalid input. Please enter valid row and column (e.g., 0 0).\")\n",
    "\n",
    "def computer_move(matrix, player):\n",
    "    empty_cells = [(r, c) for r in range(n) for c in range(n) if matrix[r][c] == '*']\n",
    "    if empty_cells:\n",
    "        row, col = random.choice(empty_cells)\n",
    "        matrix[row][col] = str(player)\n",
    "        print(f\"Computer (Player {player}) chose row {row}, column {col}.\")\n",
    "    else:\n",
    "        print(\"The matrix is full. It's a tie!\")\n",
    "\n",
    "def is_game_over(matrix):\n",
    "    return all(matrix[i][j] != '*' for i in range(n) for j in range(n))\n",
    "\n",
    "def calculate_determinant(matrix):\n",
    "    matrix_numeric = np.zeros((n, n), dtype=int)\n",
    "    for i in range(n):\n",
    "        for j in range(n):\n",
    "            matrix_numeric[i][j] = int(matrix[i][j])\n",
    "    return np.linalg.det(matrix_numeric)\n",
    "\n",
    "n = int(input(\"Enter the size (n) of the matrix: \"))\n",
    "matrix = create_matrix(n)\n",
    "\n",
    "player_choice = input(\"Player 0 or Player 1? Enter '0' or '1': \")\n",
    "player_choice = int(player_choice)\n",
    "\n",
    "if player_choice not in [0, 1]:\n",
    "    print(\"Invalid choice. Please choose 0 or 1.\")\n",
    "else:\n",
    "    computer_choice = 1 - player_choice\n",
    "\n",
    "    starting_player = int(input(\"Who starts first, Player 0 or Player 1? Enter '0' or '1': \"))\n",
    "    current_player = starting_player\n",
    "\n",
    "    while not is_game_over(matrix):\n",
    "        print_matrix(matrix)\n",
    "        if current_player == player_choice:\n",
    "            row, col = player_move(matrix, player_choice)\n",
    "            matrix[row][col] = str(player_choice)\n",
    "        else:\n",
    "            computer_move(matrix, computer_choice)\n",
    "        current_player = 1 - current_player\n",
    "\n",
    "    print_matrix(matrix)\n",
    "    determinant = calculate_determinant(matrix)\n",
    "    \n",
    "    if determinant == 0:\n",
    "        print(\"Player 0 wins! Determinant is 0.\")\n",
    "    else:\n",
    "        print(\"Player 1 wins! Determinant is not 0.\")\n"
   ]
  }
 ],
 "metadata": {
  "kernelspec": {
   "display_name": "Python 3 (ipykernel)",
   "language": "python",
   "name": "python3"
  },
  "language_info": {
   "codemirror_mode": {
    "name": "ipython",
    "version": 3
   },
   "file_extension": ".py",
   "mimetype": "text/x-python",
   "name": "python",
   "nbconvert_exporter": "python",
   "pygments_lexer": "ipython3",
   "version": "3.11.5"
  }
 },
 "nbformat": 4,
 "nbformat_minor": 5
}
